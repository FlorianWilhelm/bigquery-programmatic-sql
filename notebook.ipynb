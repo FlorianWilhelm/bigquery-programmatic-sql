{
 "cells": [
  {
   "cell_type": "code",
   "execution_count": 1,
   "metadata": {},
   "outputs": [],
   "source": [
    "import os\n",
    "import sys\n",
    "import math\n",
    "import logging\n",
    "from pathlib import Path\n",
    "\n",
    "%load_ext autoreload\n",
    "%autoreload 2\n",
    "\n",
    "import matplotlib as mpl\n",
    "import matplotlib.pyplot as plt\n",
    "%matplotlib inline\n",
    "%config InlineBackend.figure_format = 'retina'\n",
    "\n",
    "import seaborn as sns\n",
    "sns.set_context(\"poster\")\n",
    "sns.set(rc={\"figure.figsize\": (16, 9.)})\n",
    "sns.set_style(\"whitegrid\")\n",
    "\n",
    "import pandas as pd\n",
    "pd.set_option(\"display.max_rows\", 120)\n",
    "pd.set_option(\"display.max_columns\", 120)\n",
    "\n",
    "logging.basicConfig(level=logging.INFO, stream=sys.stdout)"
   ]
  },
  {
   "cell_type": "code",
   "execution_count": 5,
   "metadata": {},
   "outputs": [],
   "source": [
    "# CONFIGURATION\n",
    "gcp_project = \"cf-model-298607\"\n",
    "os.environ[\"GOOGLE_APPLICATION_CREDENTIALS\"] = \"/Users/fwilhelm/.google-app-creds.json\""
   ]
  },
  {
   "cell_type": "markdown",
   "metadata": {},
   "source": [
    "# Direct way."
   ]
  },
  {
   "cell_type": "code",
   "execution_count": 3,
   "metadata": {},
   "outputs": [
    {
     "name": "stdout",
     "output_type": "stream",
     "text": [
      "   num_downloads       month\n",
      "0         229342  2021-01-01\n",
      "1         120081  2021-02-01\n",
      "2         289039  2021-03-01\n",
      "3         265421  2021-04-01\n",
      "4         117702  2021-05-01\n"
     ]
    }
   ],
   "source": [
    "from google.cloud import bigquery\n",
    "bqclient = bigquery.Client()\n",
    "\n",
    "# Download query results.\n",
    "query_string = \"\"\"\n",
    "SELECT \n",
    "  COUNT(*) AS num_downloads,\n",
    "  DATE_TRUNC(DATE(timestamp), MONTH) AS `month`,\n",
    "FROM `bigquery-public-data.pypi.file_downloads`\n",
    "WHERE file.project = 'pyscaffold'\n",
    "    AND details.installer.name = 'pip'\n",
    "    AND DATE(timestamp) BETWEEN DATE('2021-01-01') AND CURRENT_DATE()\n",
    "GROUP BY `month`\n",
    "ORDER BY `month`\n",
    "\"\"\"\n",
    "\n",
    "df = (\n",
    "    bqclient.query(query_string)\n",
    "    .result()\n",
    "    .to_dataframe(\n",
    "        # Optionally, explicitly request to use the BigQuery Storage API. As of\n",
    "        # google-cloud-bigquery version 1.26.0 and above, the BigQuery Storage\n",
    "        # API is used by default.\n",
    "        create_bqstorage_client=True,\n",
    "    )\n",
    ")\n",
    "print(df.head())"
   ]
  },
  {
   "cell_type": "code",
   "execution_count": 117,
   "metadata": {},
   "outputs": [],
   "source": [
    "from sqlalchemy import *\n",
    "from sqlalchemy.sql import func as F\n",
    "from sqlalchemy.engine import create_engine\n",
    "from sqlalchemy.schema import *\n",
    "\n",
    "# print(select([func.count('*')], from_obj=table).scalar())"
   ]
  },
  {
   "cell_type": "code",
   "execution_count": 118,
   "metadata": {},
   "outputs": [],
   "source": [
    "engine = create_engine(f'bigquery://{gcp_project}') \n",
    "table = Table('bigquery-public-data.pypi.file_downloads', MetaData(bind=engine), autoload=True)"
   ]
  },
  {
   "cell_type": "code",
   "execution_count": 119,
   "metadata": {},
   "outputs": [],
   "source": [
    "query = (select([F.count(\"*\").label(\"num_downloads\"), \n",
    "                 F.date_trunc(func.date(column(\"timestamp\")), text(\"month\")).label(\"month\")\n",
    "                ], \n",
    "                from_obj=table)\n",
    "         .where(F.date(column(\"timestamp\")) == '2021-01-01'))"
   ]
  },
  {
   "cell_type": "code",
   "execution_count": 115,
   "metadata": {},
   "outputs": [],
   "source": [
    "# query = (select([func.date_trunc(func.date(column(\"timestamp\")), text(\"month\"))], from_obj=table)\n",
    "#          .where(func.date(column(\"timestamp\")) == '2021-01-01'))"
   ]
  },
  {
   "cell_type": "code",
   "execution_count": 116,
   "metadata": {},
   "outputs": [
    {
     "name": "stdout",
     "output_type": "stream",
     "text": [
      "SELECT count(%(count_1:STRING)s) AS `num_downloads`, date_trunc(date(`timestamp`), month) AS `month` \n",
      "FROM `bigquery-public-data.pypi.file_downloads` \n",
      "WHERE date(`timestamp`) = %(date_1:STRING)s\n"
     ]
    }
   ],
   "source": [
    "print(query)"
   ]
  },
  {
   "cell_type": "code",
   "execution_count": 113,
   "metadata": {},
   "outputs": [
    {
     "ename": "DatabaseError",
     "evalue": "(google.cloud.bigquery.dbapi.exceptions.DatabaseError) 400 SELECT list expression references column timestamp which is neither grouped nor aggregated at [1:62]\n\n(job ID: 97d1bd4a-6c55-40f9-9b95-722092bd6f7a)\n\n                                     -----Query Job SQL Follows-----                                     \n\n    |    .    |    .    |    .    |    .    |    .    |    .    |    .    |    .    |    .    |    .    |\n   1:SELECT count(@`count_1`) AS `num_downloads`, date_trunc(date(`timestamp`), month) AS `date_trunc_1` \n   2:FROM `bigquery-public-data.pypi.file_downloads` \n   3:WHERE date(`timestamp`) = @`date_1`\n    |    .    |    .    |    .    |    .    |    .    |    .    |    .    |    .    |    .    |    .    |\n[SQL: SELECT count(%(count_1:STRING)s) AS `num_downloads`, date_trunc(date(`timestamp`), month) AS `date_trunc_1` \nFROM `bigquery-public-data.pypi.file_downloads` \nWHERE date(`timestamp`) = %(date_1:STRING)s]\n[parameters: {'count_1': '*', 'date_1': '2021-01-01'}]\n(Background on this error at: https://sqlalche.me/e/14/4xp6)",
     "output_type": "error",
     "traceback": [
      "\u001B[0;31m---------------------------------------------------------------------------\u001B[0m",
      "\u001B[0;31mBadRequest\u001B[0m                                Traceback (most recent call last)",
      "\u001B[0;32m~/.miniconda3/envs/sqlalchemy-core-example/lib/python3.9/site-packages/google/cloud/bigquery/dbapi/cursor.py\u001B[0m in \u001B[0;36m_execute\u001B[0;34m(self, formatted_operation, parameters, job_id, job_config, parameter_types)\u001B[0m\n\u001B[1;32m    202\u001B[0m         \u001B[0;32mtry\u001B[0m\u001B[0;34m:\u001B[0m\u001B[0;34m\u001B[0m\u001B[0;34m\u001B[0m\u001B[0m\n\u001B[0;32m--> 203\u001B[0;31m             \u001B[0mself\u001B[0m\u001B[0;34m.\u001B[0m\u001B[0m_query_job\u001B[0m\u001B[0;34m.\u001B[0m\u001B[0mresult\u001B[0m\u001B[0;34m(\u001B[0m\u001B[0;34m)\u001B[0m\u001B[0;34m\u001B[0m\u001B[0;34m\u001B[0m\u001B[0m\n\u001B[0m\u001B[1;32m    204\u001B[0m         \u001B[0;32mexcept\u001B[0m \u001B[0mgoogle\u001B[0m\u001B[0;34m.\u001B[0m\u001B[0mcloud\u001B[0m\u001B[0;34m.\u001B[0m\u001B[0mexceptions\u001B[0m\u001B[0;34m.\u001B[0m\u001B[0mGoogleCloudError\u001B[0m \u001B[0;32mas\u001B[0m \u001B[0mexc\u001B[0m\u001B[0;34m:\u001B[0m\u001B[0;34m\u001B[0m\u001B[0;34m\u001B[0m\u001B[0m\n",
      "\u001B[0;32m~/.miniconda3/envs/sqlalchemy-core-example/lib/python3.9/site-packages/google/cloud/bigquery/job/query.py\u001B[0m in \u001B[0;36mresult\u001B[0;34m(self, page_size, max_results, retry, timeout, start_index)\u001B[0m\n\u001B[1;32m   1302\u001B[0m         \u001B[0;32mtry\u001B[0m\u001B[0;34m:\u001B[0m\u001B[0;34m\u001B[0m\u001B[0;34m\u001B[0m\u001B[0m\n\u001B[0;32m-> 1303\u001B[0;31m             \u001B[0msuper\u001B[0m\u001B[0;34m(\u001B[0m\u001B[0mQueryJob\u001B[0m\u001B[0;34m,\u001B[0m \u001B[0mself\u001B[0m\u001B[0;34m)\u001B[0m\u001B[0;34m.\u001B[0m\u001B[0mresult\u001B[0m\u001B[0;34m(\u001B[0m\u001B[0mretry\u001B[0m\u001B[0;34m=\u001B[0m\u001B[0mretry\u001B[0m\u001B[0;34m,\u001B[0m \u001B[0mtimeout\u001B[0m\u001B[0;34m=\u001B[0m\u001B[0mtimeout\u001B[0m\u001B[0;34m)\u001B[0m\u001B[0;34m\u001B[0m\u001B[0;34m\u001B[0m\u001B[0m\n\u001B[0m\u001B[1;32m   1304\u001B[0m \u001B[0;34m\u001B[0m\u001B[0m\n",
      "\u001B[0;32m~/.miniconda3/envs/sqlalchemy-core-example/lib/python3.9/site-packages/google/cloud/bigquery/job/base.py\u001B[0m in \u001B[0;36mresult\u001B[0;34m(self, retry, timeout)\u001B[0m\n\u001B[1;32m    678\u001B[0m         \u001B[0mkwargs\u001B[0m \u001B[0;34m=\u001B[0m \u001B[0;34m{\u001B[0m\u001B[0;34m}\u001B[0m \u001B[0;32mif\u001B[0m \u001B[0mretry\u001B[0m \u001B[0;32mis\u001B[0m \u001B[0mDEFAULT_RETRY\u001B[0m \u001B[0;32melse\u001B[0m \u001B[0;34m{\u001B[0m\u001B[0;34m\"retry\"\u001B[0m\u001B[0;34m:\u001B[0m \u001B[0mretry\u001B[0m\u001B[0;34m}\u001B[0m\u001B[0;34m\u001B[0m\u001B[0;34m\u001B[0m\u001B[0m\n\u001B[0;32m--> 679\u001B[0;31m         \u001B[0;32mreturn\u001B[0m \u001B[0msuper\u001B[0m\u001B[0;34m(\u001B[0m\u001B[0m_AsyncJob\u001B[0m\u001B[0;34m,\u001B[0m \u001B[0mself\u001B[0m\u001B[0;34m)\u001B[0m\u001B[0;34m.\u001B[0m\u001B[0mresult\u001B[0m\u001B[0;34m(\u001B[0m\u001B[0mtimeout\u001B[0m\u001B[0;34m=\u001B[0m\u001B[0mtimeout\u001B[0m\u001B[0;34m,\u001B[0m \u001B[0;34m**\u001B[0m\u001B[0mkwargs\u001B[0m\u001B[0;34m)\u001B[0m\u001B[0;34m\u001B[0m\u001B[0;34m\u001B[0m\u001B[0m\n\u001B[0m\u001B[1;32m    680\u001B[0m \u001B[0;34m\u001B[0m\u001B[0m\n",
      "\u001B[0;32m~/.miniconda3/envs/sqlalchemy-core-example/lib/python3.9/site-packages/google/api_core/future/polling.py\u001B[0m in \u001B[0;36mresult\u001B[0;34m(self, timeout, retry)\u001B[0m\n\u001B[1;32m    134\u001B[0m             \u001B[0;31m# Pylint doesn't recognize that this is valid in this case.\u001B[0m\u001B[0;34m\u001B[0m\u001B[0;34m\u001B[0m\u001B[0;34m\u001B[0m\u001B[0m\n\u001B[0;32m--> 135\u001B[0;31m             \u001B[0;32mraise\u001B[0m \u001B[0mself\u001B[0m\u001B[0;34m.\u001B[0m\u001B[0m_exception\u001B[0m\u001B[0;34m\u001B[0m\u001B[0;34m\u001B[0m\u001B[0m\n\u001B[0m\u001B[1;32m    136\u001B[0m \u001B[0;34m\u001B[0m\u001B[0m\n",
      "\u001B[0;31mBadRequest\u001B[0m: 400 SELECT list expression references column timestamp which is neither grouped nor aggregated at [1:62]\n\n(job ID: 97d1bd4a-6c55-40f9-9b95-722092bd6f7a)\n\n                                     -----Query Job SQL Follows-----                                     \n\n    |    .    |    .    |    .    |    .    |    .    |    .    |    .    |    .    |    .    |    .    |\n   1:SELECT count(@`count_1`) AS `num_downloads`, date_trunc(date(`timestamp`), month) AS `date_trunc_1` \n   2:FROM `bigquery-public-data.pypi.file_downloads` \n   3:WHERE date(`timestamp`) = @`date_1`\n    |    .    |    .    |    .    |    .    |    .    |    .    |    .    |    .    |    .    |    .    |",
      "\nDuring handling of the above exception, another exception occurred:\n",
      "\u001B[0;31mDatabaseError\u001B[0m                             Traceback (most recent call last)",
      "\u001B[0;32m~/.miniconda3/envs/sqlalchemy-core-example/lib/python3.9/site-packages/sqlalchemy/engine/base.py\u001B[0m in \u001B[0;36m_execute_context\u001B[0;34m(self, dialect, constructor, statement, parameters, execution_options, *args, **kw)\u001B[0m\n\u001B[1;32m   1770\u001B[0m                 \u001B[0;32mif\u001B[0m \u001B[0;32mnot\u001B[0m \u001B[0mevt_handled\u001B[0m\u001B[0;34m:\u001B[0m\u001B[0;34m\u001B[0m\u001B[0;34m\u001B[0m\u001B[0m\n\u001B[0;32m-> 1771\u001B[0;31m                     self.dialect.do_execute(\n\u001B[0m\u001B[1;32m   1772\u001B[0m                         \u001B[0mcursor\u001B[0m\u001B[0;34m,\u001B[0m \u001B[0mstatement\u001B[0m\u001B[0;34m,\u001B[0m \u001B[0mparameters\u001B[0m\u001B[0;34m,\u001B[0m \u001B[0mcontext\u001B[0m\u001B[0;34m\u001B[0m\u001B[0;34m\u001B[0m\u001B[0m\n",
      "\u001B[0;32m~/.miniconda3/envs/sqlalchemy-core-example/lib/python3.9/site-packages/sqlalchemy/engine/default.py\u001B[0m in \u001B[0;36mdo_execute\u001B[0;34m(self, cursor, statement, parameters, context)\u001B[0m\n\u001B[1;32m    716\u001B[0m     \u001B[0;32mdef\u001B[0m \u001B[0mdo_execute\u001B[0m\u001B[0;34m(\u001B[0m\u001B[0mself\u001B[0m\u001B[0;34m,\u001B[0m \u001B[0mcursor\u001B[0m\u001B[0;34m,\u001B[0m \u001B[0mstatement\u001B[0m\u001B[0;34m,\u001B[0m \u001B[0mparameters\u001B[0m\u001B[0;34m,\u001B[0m \u001B[0mcontext\u001B[0m\u001B[0;34m=\u001B[0m\u001B[0;32mNone\u001B[0m\u001B[0;34m)\u001B[0m\u001B[0;34m:\u001B[0m\u001B[0;34m\u001B[0m\u001B[0;34m\u001B[0m\u001B[0m\n\u001B[0;32m--> 717\u001B[0;31m         \u001B[0mcursor\u001B[0m\u001B[0;34m.\u001B[0m\u001B[0mexecute\u001B[0m\u001B[0;34m(\u001B[0m\u001B[0mstatement\u001B[0m\u001B[0;34m,\u001B[0m \u001B[0mparameters\u001B[0m\u001B[0;34m)\u001B[0m\u001B[0;34m\u001B[0m\u001B[0;34m\u001B[0m\u001B[0m\n\u001B[0m\u001B[1;32m    718\u001B[0m \u001B[0;34m\u001B[0m\u001B[0m\n",
      "\u001B[0;32m~/.miniconda3/envs/sqlalchemy-core-example/lib/python3.9/site-packages/google/cloud/bigquery/dbapi/_helpers.py\u001B[0m in \u001B[0;36mwith_closed_check\u001B[0;34m(self, *args, **kwargs)\u001B[0m\n\u001B[1;32m    488\u001B[0m                 \u001B[0;32mraise\u001B[0m \u001B[0mexc_class\u001B[0m\u001B[0;34m(\u001B[0m\u001B[0mexc_msg\u001B[0m\u001B[0;34m)\u001B[0m\u001B[0;34m\u001B[0m\u001B[0;34m\u001B[0m\u001B[0m\n\u001B[0;32m--> 489\u001B[0;31m             \u001B[0;32mreturn\u001B[0m \u001B[0mmethod\u001B[0m\u001B[0;34m(\u001B[0m\u001B[0mself\u001B[0m\u001B[0;34m,\u001B[0m \u001B[0;34m*\u001B[0m\u001B[0margs\u001B[0m\u001B[0;34m,\u001B[0m \u001B[0;34m**\u001B[0m\u001B[0mkwargs\u001B[0m\u001B[0;34m)\u001B[0m\u001B[0;34m\u001B[0m\u001B[0;34m\u001B[0m\u001B[0m\n\u001B[0m\u001B[1;32m    490\u001B[0m \u001B[0;34m\u001B[0m\u001B[0m\n",
      "\u001B[0;32m~/.miniconda3/envs/sqlalchemy-core-example/lib/python3.9/site-packages/google/cloud/bigquery/dbapi/cursor.py\u001B[0m in \u001B[0;36mexecute\u001B[0;34m(self, operation, parameters, job_id, job_config)\u001B[0m\n\u001B[1;32m    165\u001B[0m         \u001B[0mformatted_operation\u001B[0m\u001B[0;34m,\u001B[0m \u001B[0mparameter_types\u001B[0m \u001B[0;34m=\u001B[0m \u001B[0m_format_operation\u001B[0m\u001B[0;34m(\u001B[0m\u001B[0moperation\u001B[0m\u001B[0;34m,\u001B[0m \u001B[0mparameters\u001B[0m\u001B[0;34m)\u001B[0m\u001B[0;34m\u001B[0m\u001B[0;34m\u001B[0m\u001B[0m\n\u001B[0;32m--> 166\u001B[0;31m         self._execute(\n\u001B[0m\u001B[1;32m    167\u001B[0m             \u001B[0mformatted_operation\u001B[0m\u001B[0;34m,\u001B[0m \u001B[0mparameters\u001B[0m\u001B[0;34m,\u001B[0m \u001B[0mjob_id\u001B[0m\u001B[0;34m,\u001B[0m \u001B[0mjob_config\u001B[0m\u001B[0;34m,\u001B[0m \u001B[0mparameter_types\u001B[0m\u001B[0;34m\u001B[0m\u001B[0;34m\u001B[0m\u001B[0m\n",
      "\u001B[0;32m~/.miniconda3/envs/sqlalchemy-core-example/lib/python3.9/site-packages/google/cloud/bigquery/dbapi/cursor.py\u001B[0m in \u001B[0;36m_execute\u001B[0;34m(self, formatted_operation, parameters, job_id, job_config, parameter_types)\u001B[0m\n\u001B[1;32m    204\u001B[0m         \u001B[0;32mexcept\u001B[0m \u001B[0mgoogle\u001B[0m\u001B[0;34m.\u001B[0m\u001B[0mcloud\u001B[0m\u001B[0;34m.\u001B[0m\u001B[0mexceptions\u001B[0m\u001B[0;34m.\u001B[0m\u001B[0mGoogleCloudError\u001B[0m \u001B[0;32mas\u001B[0m \u001B[0mexc\u001B[0m\u001B[0;34m:\u001B[0m\u001B[0;34m\u001B[0m\u001B[0;34m\u001B[0m\u001B[0m\n\u001B[0;32m--> 205\u001B[0;31m             \u001B[0;32mraise\u001B[0m \u001B[0mexceptions\u001B[0m\u001B[0;34m.\u001B[0m\u001B[0mDatabaseError\u001B[0m\u001B[0;34m(\u001B[0m\u001B[0mexc\u001B[0m\u001B[0;34m)\u001B[0m\u001B[0;34m\u001B[0m\u001B[0;34m\u001B[0m\u001B[0m\n\u001B[0m\u001B[1;32m    206\u001B[0m \u001B[0;34m\u001B[0m\u001B[0m\n",
      "\u001B[0;31mDatabaseError\u001B[0m: 400 SELECT list expression references column timestamp which is neither grouped nor aggregated at [1:62]\n\n(job ID: 97d1bd4a-6c55-40f9-9b95-722092bd6f7a)\n\n                                     -----Query Job SQL Follows-----                                     \n\n    |    .    |    .    |    .    |    .    |    .    |    .    |    .    |    .    |    .    |    .    |\n   1:SELECT count(@`count_1`) AS `num_downloads`, date_trunc(date(`timestamp`), month) AS `date_trunc_1` \n   2:FROM `bigquery-public-data.pypi.file_downloads` \n   3:WHERE date(`timestamp`) = @`date_1`\n    |    .    |    .    |    .    |    .    |    .    |    .    |    .    |    .    |    .    |    .    |",
      "\nThe above exception was the direct cause of the following exception:\n",
      "\u001B[0;31mDatabaseError\u001B[0m                             Traceback (most recent call last)",
      "\u001B[0;32m<ipython-input-113-8aea592f25d2>\u001B[0m in \u001B[0;36m<module>\u001B[0;34m\u001B[0m\n\u001B[0;32m----> 1\u001B[0;31m \u001B[0mresult\u001B[0m \u001B[0;34m=\u001B[0m \u001B[0mengine\u001B[0m\u001B[0;34m.\u001B[0m\u001B[0mexecute\u001B[0m\u001B[0;34m(\u001B[0m\u001B[0mquery\u001B[0m\u001B[0;34m)\u001B[0m\u001B[0;34m\u001B[0m\u001B[0;34m\u001B[0m\u001B[0m\n\u001B[0m",
      "\u001B[0;32m<string>\u001B[0m in \u001B[0;36mexecute\u001B[0;34m(self, statement, *multiparams, **params)\u001B[0m\n",
      "\u001B[0;32m~/.miniconda3/envs/sqlalchemy-core-example/lib/python3.9/site-packages/sqlalchemy/util/deprecations.py\u001B[0m in \u001B[0;36mwarned\u001B[0;34m(fn, *args, **kwargs)\u001B[0m\n\u001B[1;32m    388\u001B[0m         \u001B[0;32mif\u001B[0m \u001B[0;32mnot\u001B[0m \u001B[0mskip_warning\u001B[0m\u001B[0;34m:\u001B[0m\u001B[0;34m\u001B[0m\u001B[0;34m\u001B[0m\u001B[0m\n\u001B[1;32m    389\u001B[0m             \u001B[0m_warn_with_version\u001B[0m\u001B[0;34m(\u001B[0m\u001B[0mmessage\u001B[0m\u001B[0;34m,\u001B[0m \u001B[0mversion\u001B[0m\u001B[0;34m,\u001B[0m \u001B[0mwtype\u001B[0m\u001B[0;34m,\u001B[0m \u001B[0mstacklevel\u001B[0m\u001B[0;34m=\u001B[0m\u001B[0;36m3\u001B[0m\u001B[0;34m)\u001B[0m\u001B[0;34m\u001B[0m\u001B[0;34m\u001B[0m\u001B[0m\n\u001B[0;32m--> 390\u001B[0;31m         \u001B[0;32mreturn\u001B[0m \u001B[0mfn\u001B[0m\u001B[0;34m(\u001B[0m\u001B[0;34m*\u001B[0m\u001B[0margs\u001B[0m\u001B[0;34m,\u001B[0m \u001B[0;34m**\u001B[0m\u001B[0mkwargs\u001B[0m\u001B[0;34m)\u001B[0m\u001B[0;34m\u001B[0m\u001B[0;34m\u001B[0m\u001B[0m\n\u001B[0m\u001B[1;32m    391\u001B[0m \u001B[0;34m\u001B[0m\u001B[0m\n\u001B[1;32m    392\u001B[0m     \u001B[0mdoc\u001B[0m \u001B[0;34m=\u001B[0m \u001B[0mfunc\u001B[0m\u001B[0;34m.\u001B[0m\u001B[0m__doc__\u001B[0m \u001B[0;32mis\u001B[0m \u001B[0;32mnot\u001B[0m \u001B[0;32mNone\u001B[0m \u001B[0;32mand\u001B[0m \u001B[0mfunc\u001B[0m\u001B[0;34m.\u001B[0m\u001B[0m__doc__\u001B[0m \u001B[0;32mor\u001B[0m \u001B[0;34m\"\"\u001B[0m\u001B[0;34m\u001B[0m\u001B[0;34m\u001B[0m\u001B[0m\n",
      "\u001B[0;32m~/.miniconda3/envs/sqlalchemy-core-example/lib/python3.9/site-packages/sqlalchemy/engine/base.py\u001B[0m in \u001B[0;36mexecute\u001B[0;34m(self, statement, *multiparams, **params)\u001B[0m\n\u001B[1;32m   3106\u001B[0m         \"\"\"\n\u001B[1;32m   3107\u001B[0m         \u001B[0mconnection\u001B[0m \u001B[0;34m=\u001B[0m \u001B[0mself\u001B[0m\u001B[0;34m.\u001B[0m\u001B[0mconnect\u001B[0m\u001B[0;34m(\u001B[0m\u001B[0mclose_with_result\u001B[0m\u001B[0;34m=\u001B[0m\u001B[0;32mTrue\u001B[0m\u001B[0;34m)\u001B[0m\u001B[0;34m\u001B[0m\u001B[0;34m\u001B[0m\u001B[0m\n\u001B[0;32m-> 3108\u001B[0;31m         \u001B[0;32mreturn\u001B[0m \u001B[0mconnection\u001B[0m\u001B[0;34m.\u001B[0m\u001B[0mexecute\u001B[0m\u001B[0;34m(\u001B[0m\u001B[0mstatement\u001B[0m\u001B[0;34m,\u001B[0m \u001B[0;34m*\u001B[0m\u001B[0mmultiparams\u001B[0m\u001B[0;34m,\u001B[0m \u001B[0;34m**\u001B[0m\u001B[0mparams\u001B[0m\u001B[0;34m)\u001B[0m\u001B[0;34m\u001B[0m\u001B[0;34m\u001B[0m\u001B[0m\n\u001B[0m\u001B[1;32m   3109\u001B[0m \u001B[0;34m\u001B[0m\u001B[0m\n\u001B[1;32m   3110\u001B[0m     @util.deprecated_20(\n",
      "\u001B[0;32m~/.miniconda3/envs/sqlalchemy-core-example/lib/python3.9/site-packages/sqlalchemy/engine/base.py\u001B[0m in \u001B[0;36mexecute\u001B[0;34m(self, statement, *multiparams, **params)\u001B[0m\n\u001B[1;32m   1261\u001B[0m             )\n\u001B[1;32m   1262\u001B[0m         \u001B[0;32melse\u001B[0m\u001B[0;34m:\u001B[0m\u001B[0;34m\u001B[0m\u001B[0;34m\u001B[0m\u001B[0m\n\u001B[0;32m-> 1263\u001B[0;31m             \u001B[0;32mreturn\u001B[0m \u001B[0mmeth\u001B[0m\u001B[0;34m(\u001B[0m\u001B[0mself\u001B[0m\u001B[0;34m,\u001B[0m \u001B[0mmultiparams\u001B[0m\u001B[0;34m,\u001B[0m \u001B[0mparams\u001B[0m\u001B[0;34m,\u001B[0m \u001B[0m_EMPTY_EXECUTION_OPTS\u001B[0m\u001B[0;34m)\u001B[0m\u001B[0;34m\u001B[0m\u001B[0;34m\u001B[0m\u001B[0m\n\u001B[0m\u001B[1;32m   1264\u001B[0m \u001B[0;34m\u001B[0m\u001B[0m\n\u001B[1;32m   1265\u001B[0m     \u001B[0;32mdef\u001B[0m \u001B[0m_execute_function\u001B[0m\u001B[0;34m(\u001B[0m\u001B[0mself\u001B[0m\u001B[0;34m,\u001B[0m \u001B[0mfunc\u001B[0m\u001B[0;34m,\u001B[0m \u001B[0mmultiparams\u001B[0m\u001B[0;34m,\u001B[0m \u001B[0mparams\u001B[0m\u001B[0;34m,\u001B[0m \u001B[0mexecution_options\u001B[0m\u001B[0;34m)\u001B[0m\u001B[0;34m:\u001B[0m\u001B[0;34m\u001B[0m\u001B[0;34m\u001B[0m\u001B[0m\n",
      "\u001B[0;32m~/.miniconda3/envs/sqlalchemy-core-example/lib/python3.9/site-packages/sqlalchemy/sql/elements.py\u001B[0m in \u001B[0;36m_execute_on_connection\u001B[0;34m(self, connection, multiparams, params, execution_options, _force)\u001B[0m\n\u001B[1;32m    321\u001B[0m     ):\n\u001B[1;32m    322\u001B[0m         \u001B[0;32mif\u001B[0m \u001B[0m_force\u001B[0m \u001B[0;32mor\u001B[0m \u001B[0mself\u001B[0m\u001B[0;34m.\u001B[0m\u001B[0msupports_execution\u001B[0m\u001B[0;34m:\u001B[0m\u001B[0;34m\u001B[0m\u001B[0;34m\u001B[0m\u001B[0m\n\u001B[0;32m--> 323\u001B[0;31m             return connection._execute_clauseelement(\n\u001B[0m\u001B[1;32m    324\u001B[0m                 \u001B[0mself\u001B[0m\u001B[0;34m,\u001B[0m \u001B[0mmultiparams\u001B[0m\u001B[0;34m,\u001B[0m \u001B[0mparams\u001B[0m\u001B[0;34m,\u001B[0m \u001B[0mexecution_options\u001B[0m\u001B[0;34m\u001B[0m\u001B[0;34m\u001B[0m\u001B[0m\n\u001B[1;32m    325\u001B[0m             )\n",
      "\u001B[0;32m~/.miniconda3/envs/sqlalchemy-core-example/lib/python3.9/site-packages/sqlalchemy/engine/base.py\u001B[0m in \u001B[0;36m_execute_clauseelement\u001B[0;34m(self, elem, multiparams, params, execution_options)\u001B[0m\n\u001B[1;32m   1450\u001B[0m             \u001B[0mlinting\u001B[0m\u001B[0;34m=\u001B[0m\u001B[0mself\u001B[0m\u001B[0;34m.\u001B[0m\u001B[0mdialect\u001B[0m\u001B[0;34m.\u001B[0m\u001B[0mcompiler_linting\u001B[0m \u001B[0;34m|\u001B[0m \u001B[0mcompiler\u001B[0m\u001B[0;34m.\u001B[0m\u001B[0mWARN_LINTING\u001B[0m\u001B[0;34m,\u001B[0m\u001B[0;34m\u001B[0m\u001B[0;34m\u001B[0m\u001B[0m\n\u001B[1;32m   1451\u001B[0m         )\n\u001B[0;32m-> 1452\u001B[0;31m         ret = self._execute_context(\n\u001B[0m\u001B[1;32m   1453\u001B[0m             \u001B[0mdialect\u001B[0m\u001B[0;34m,\u001B[0m\u001B[0;34m\u001B[0m\u001B[0;34m\u001B[0m\u001B[0m\n\u001B[1;32m   1454\u001B[0m             \u001B[0mdialect\u001B[0m\u001B[0;34m.\u001B[0m\u001B[0mexecution_ctx_cls\u001B[0m\u001B[0;34m.\u001B[0m\u001B[0m_init_compiled\u001B[0m\u001B[0;34m,\u001B[0m\u001B[0;34m\u001B[0m\u001B[0;34m\u001B[0m\u001B[0m\n",
      "\u001B[0;32m~/.miniconda3/envs/sqlalchemy-core-example/lib/python3.9/site-packages/sqlalchemy/engine/base.py\u001B[0m in \u001B[0;36m_execute_context\u001B[0;34m(self, dialect, constructor, statement, parameters, execution_options, *args, **kw)\u001B[0m\n\u001B[1;32m   1812\u001B[0m \u001B[0;34m\u001B[0m\u001B[0m\n\u001B[1;32m   1813\u001B[0m         \u001B[0;32mexcept\u001B[0m \u001B[0mBaseException\u001B[0m \u001B[0;32mas\u001B[0m \u001B[0me\u001B[0m\u001B[0;34m:\u001B[0m\u001B[0;34m\u001B[0m\u001B[0;34m\u001B[0m\u001B[0m\n\u001B[0;32m-> 1814\u001B[0;31m             self._handle_dbapi_exception(\n\u001B[0m\u001B[1;32m   1815\u001B[0m                 \u001B[0me\u001B[0m\u001B[0;34m,\u001B[0m \u001B[0mstatement\u001B[0m\u001B[0;34m,\u001B[0m \u001B[0mparameters\u001B[0m\u001B[0;34m,\u001B[0m \u001B[0mcursor\u001B[0m\u001B[0;34m,\u001B[0m \u001B[0mcontext\u001B[0m\u001B[0;34m\u001B[0m\u001B[0;34m\u001B[0m\u001B[0m\n\u001B[1;32m   1816\u001B[0m             )\n",
      "\u001B[0;32m~/.miniconda3/envs/sqlalchemy-core-example/lib/python3.9/site-packages/sqlalchemy/engine/base.py\u001B[0m in \u001B[0;36m_handle_dbapi_exception\u001B[0;34m(self, e, statement, parameters, cursor, context)\u001B[0m\n\u001B[1;32m   1993\u001B[0m                 \u001B[0mutil\u001B[0m\u001B[0;34m.\u001B[0m\u001B[0mraise_\u001B[0m\u001B[0;34m(\u001B[0m\u001B[0mnewraise\u001B[0m\u001B[0;34m,\u001B[0m \u001B[0mwith_traceback\u001B[0m\u001B[0;34m=\u001B[0m\u001B[0mexc_info\u001B[0m\u001B[0;34m[\u001B[0m\u001B[0;36m2\u001B[0m\u001B[0;34m]\u001B[0m\u001B[0;34m,\u001B[0m \u001B[0mfrom_\u001B[0m\u001B[0;34m=\u001B[0m\u001B[0me\u001B[0m\u001B[0;34m)\u001B[0m\u001B[0;34m\u001B[0m\u001B[0;34m\u001B[0m\u001B[0m\n\u001B[1;32m   1994\u001B[0m             \u001B[0;32melif\u001B[0m \u001B[0mshould_wrap\u001B[0m\u001B[0;34m:\u001B[0m\u001B[0;34m\u001B[0m\u001B[0;34m\u001B[0m\u001B[0m\n\u001B[0;32m-> 1995\u001B[0;31m                 util.raise_(\n\u001B[0m\u001B[1;32m   1996\u001B[0m                     \u001B[0msqlalchemy_exception\u001B[0m\u001B[0;34m,\u001B[0m \u001B[0mwith_traceback\u001B[0m\u001B[0;34m=\u001B[0m\u001B[0mexc_info\u001B[0m\u001B[0;34m[\u001B[0m\u001B[0;36m2\u001B[0m\u001B[0;34m]\u001B[0m\u001B[0;34m,\u001B[0m \u001B[0mfrom_\u001B[0m\u001B[0;34m=\u001B[0m\u001B[0me\u001B[0m\u001B[0;34m\u001B[0m\u001B[0;34m\u001B[0m\u001B[0m\n\u001B[1;32m   1997\u001B[0m                 )\n",
      "\u001B[0;32m~/.miniconda3/envs/sqlalchemy-core-example/lib/python3.9/site-packages/sqlalchemy/util/compat.py\u001B[0m in \u001B[0;36mraise_\u001B[0;34m(***failed resolving arguments***)\u001B[0m\n\u001B[1;32m    205\u001B[0m \u001B[0;34m\u001B[0m\u001B[0m\n\u001B[1;32m    206\u001B[0m         \u001B[0;32mtry\u001B[0m\u001B[0;34m:\u001B[0m\u001B[0;34m\u001B[0m\u001B[0;34m\u001B[0m\u001B[0m\n\u001B[0;32m--> 207\u001B[0;31m             \u001B[0;32mraise\u001B[0m \u001B[0mexception\u001B[0m\u001B[0;34m\u001B[0m\u001B[0;34m\u001B[0m\u001B[0m\n\u001B[0m\u001B[1;32m    208\u001B[0m         \u001B[0;32mfinally\u001B[0m\u001B[0;34m:\u001B[0m\u001B[0;34m\u001B[0m\u001B[0;34m\u001B[0m\u001B[0m\n\u001B[1;32m    209\u001B[0m             \u001B[0;31m# credit to\u001B[0m\u001B[0;34m\u001B[0m\u001B[0;34m\u001B[0m\u001B[0;34m\u001B[0m\u001B[0m\n",
      "\u001B[0;32m~/.miniconda3/envs/sqlalchemy-core-example/lib/python3.9/site-packages/sqlalchemy/engine/base.py\u001B[0m in \u001B[0;36m_execute_context\u001B[0;34m(self, dialect, constructor, statement, parameters, execution_options, *args, **kw)\u001B[0m\n\u001B[1;32m   1769\u001B[0m                             \u001B[0;32mbreak\u001B[0m\u001B[0;34m\u001B[0m\u001B[0;34m\u001B[0m\u001B[0m\n\u001B[1;32m   1770\u001B[0m                 \u001B[0;32mif\u001B[0m \u001B[0;32mnot\u001B[0m \u001B[0mevt_handled\u001B[0m\u001B[0;34m:\u001B[0m\u001B[0;34m\u001B[0m\u001B[0;34m\u001B[0m\u001B[0m\n\u001B[0;32m-> 1771\u001B[0;31m                     self.dialect.do_execute(\n\u001B[0m\u001B[1;32m   1772\u001B[0m                         \u001B[0mcursor\u001B[0m\u001B[0;34m,\u001B[0m \u001B[0mstatement\u001B[0m\u001B[0;34m,\u001B[0m \u001B[0mparameters\u001B[0m\u001B[0;34m,\u001B[0m \u001B[0mcontext\u001B[0m\u001B[0;34m\u001B[0m\u001B[0;34m\u001B[0m\u001B[0m\n\u001B[1;32m   1773\u001B[0m                     )\n",
      "\u001B[0;32m~/.miniconda3/envs/sqlalchemy-core-example/lib/python3.9/site-packages/sqlalchemy/engine/default.py\u001B[0m in \u001B[0;36mdo_execute\u001B[0;34m(self, cursor, statement, parameters, context)\u001B[0m\n\u001B[1;32m    715\u001B[0m \u001B[0;34m\u001B[0m\u001B[0m\n\u001B[1;32m    716\u001B[0m     \u001B[0;32mdef\u001B[0m \u001B[0mdo_execute\u001B[0m\u001B[0;34m(\u001B[0m\u001B[0mself\u001B[0m\u001B[0;34m,\u001B[0m \u001B[0mcursor\u001B[0m\u001B[0;34m,\u001B[0m \u001B[0mstatement\u001B[0m\u001B[0;34m,\u001B[0m \u001B[0mparameters\u001B[0m\u001B[0;34m,\u001B[0m \u001B[0mcontext\u001B[0m\u001B[0;34m=\u001B[0m\u001B[0;32mNone\u001B[0m\u001B[0;34m)\u001B[0m\u001B[0;34m:\u001B[0m\u001B[0;34m\u001B[0m\u001B[0;34m\u001B[0m\u001B[0m\n\u001B[0;32m--> 717\u001B[0;31m         \u001B[0mcursor\u001B[0m\u001B[0;34m.\u001B[0m\u001B[0mexecute\u001B[0m\u001B[0;34m(\u001B[0m\u001B[0mstatement\u001B[0m\u001B[0;34m,\u001B[0m \u001B[0mparameters\u001B[0m\u001B[0;34m)\u001B[0m\u001B[0;34m\u001B[0m\u001B[0;34m\u001B[0m\u001B[0m\n\u001B[0m\u001B[1;32m    718\u001B[0m \u001B[0;34m\u001B[0m\u001B[0m\n\u001B[1;32m    719\u001B[0m     \u001B[0;32mdef\u001B[0m \u001B[0mdo_execute_no_params\u001B[0m\u001B[0;34m(\u001B[0m\u001B[0mself\u001B[0m\u001B[0;34m,\u001B[0m \u001B[0mcursor\u001B[0m\u001B[0;34m,\u001B[0m \u001B[0mstatement\u001B[0m\u001B[0;34m,\u001B[0m \u001B[0mcontext\u001B[0m\u001B[0;34m=\u001B[0m\u001B[0;32mNone\u001B[0m\u001B[0;34m)\u001B[0m\u001B[0;34m:\u001B[0m\u001B[0;34m\u001B[0m\u001B[0;34m\u001B[0m\u001B[0m\n",
      "\u001B[0;32m~/.miniconda3/envs/sqlalchemy-core-example/lib/python3.9/site-packages/google/cloud/bigquery/dbapi/_helpers.py\u001B[0m in \u001B[0;36mwith_closed_check\u001B[0;34m(self, *args, **kwargs)\u001B[0m\n\u001B[1;32m    487\u001B[0m             \u001B[0;32mif\u001B[0m \u001B[0mgetattr\u001B[0m\u001B[0;34m(\u001B[0m\u001B[0mself\u001B[0m\u001B[0;34m,\u001B[0m \u001B[0mclosed_attr_name\u001B[0m\u001B[0;34m)\u001B[0m\u001B[0;34m:\u001B[0m\u001B[0;34m\u001B[0m\u001B[0;34m\u001B[0m\u001B[0m\n\u001B[1;32m    488\u001B[0m                 \u001B[0;32mraise\u001B[0m \u001B[0mexc_class\u001B[0m\u001B[0;34m(\u001B[0m\u001B[0mexc_msg\u001B[0m\u001B[0;34m)\u001B[0m\u001B[0;34m\u001B[0m\u001B[0;34m\u001B[0m\u001B[0m\n\u001B[0;32m--> 489\u001B[0;31m             \u001B[0;32mreturn\u001B[0m \u001B[0mmethod\u001B[0m\u001B[0;34m(\u001B[0m\u001B[0mself\u001B[0m\u001B[0;34m,\u001B[0m \u001B[0;34m*\u001B[0m\u001B[0margs\u001B[0m\u001B[0;34m,\u001B[0m \u001B[0;34m**\u001B[0m\u001B[0mkwargs\u001B[0m\u001B[0;34m)\u001B[0m\u001B[0;34m\u001B[0m\u001B[0;34m\u001B[0m\u001B[0m\n\u001B[0m\u001B[1;32m    490\u001B[0m \u001B[0;34m\u001B[0m\u001B[0m\n\u001B[1;32m    491\u001B[0m         \u001B[0mfunctools\u001B[0m\u001B[0;34m.\u001B[0m\u001B[0mupdate_wrapper\u001B[0m\u001B[0;34m(\u001B[0m\u001B[0mwith_closed_check\u001B[0m\u001B[0;34m,\u001B[0m \u001B[0mmethod\u001B[0m\u001B[0;34m)\u001B[0m\u001B[0;34m\u001B[0m\u001B[0;34m\u001B[0m\u001B[0m\n",
      "\u001B[0;32m~/.miniconda3/envs/sqlalchemy-core-example/lib/python3.9/site-packages/google/cloud/bigquery/dbapi/cursor.py\u001B[0m in \u001B[0;36mexecute\u001B[0;34m(self, operation, parameters, job_id, job_config)\u001B[0m\n\u001B[1;32m    164\u001B[0m         \"\"\"\n\u001B[1;32m    165\u001B[0m         \u001B[0mformatted_operation\u001B[0m\u001B[0;34m,\u001B[0m \u001B[0mparameter_types\u001B[0m \u001B[0;34m=\u001B[0m \u001B[0m_format_operation\u001B[0m\u001B[0;34m(\u001B[0m\u001B[0moperation\u001B[0m\u001B[0;34m,\u001B[0m \u001B[0mparameters\u001B[0m\u001B[0;34m)\u001B[0m\u001B[0;34m\u001B[0m\u001B[0;34m\u001B[0m\u001B[0m\n\u001B[0;32m--> 166\u001B[0;31m         self._execute(\n\u001B[0m\u001B[1;32m    167\u001B[0m             \u001B[0mformatted_operation\u001B[0m\u001B[0;34m,\u001B[0m \u001B[0mparameters\u001B[0m\u001B[0;34m,\u001B[0m \u001B[0mjob_id\u001B[0m\u001B[0;34m,\u001B[0m \u001B[0mjob_config\u001B[0m\u001B[0;34m,\u001B[0m \u001B[0mparameter_types\u001B[0m\u001B[0;34m\u001B[0m\u001B[0;34m\u001B[0m\u001B[0m\n\u001B[1;32m    168\u001B[0m         )\n",
      "\u001B[0;32m~/.miniconda3/envs/sqlalchemy-core-example/lib/python3.9/site-packages/google/cloud/bigquery/dbapi/cursor.py\u001B[0m in \u001B[0;36m_execute\u001B[0;34m(self, formatted_operation, parameters, job_id, job_config, parameter_types)\u001B[0m\n\u001B[1;32m    203\u001B[0m             \u001B[0mself\u001B[0m\u001B[0;34m.\u001B[0m\u001B[0m_query_job\u001B[0m\u001B[0;34m.\u001B[0m\u001B[0mresult\u001B[0m\u001B[0;34m(\u001B[0m\u001B[0;34m)\u001B[0m\u001B[0;34m\u001B[0m\u001B[0;34m\u001B[0m\u001B[0m\n\u001B[1;32m    204\u001B[0m         \u001B[0;32mexcept\u001B[0m \u001B[0mgoogle\u001B[0m\u001B[0;34m.\u001B[0m\u001B[0mcloud\u001B[0m\u001B[0;34m.\u001B[0m\u001B[0mexceptions\u001B[0m\u001B[0;34m.\u001B[0m\u001B[0mGoogleCloudError\u001B[0m \u001B[0;32mas\u001B[0m \u001B[0mexc\u001B[0m\u001B[0;34m:\u001B[0m\u001B[0;34m\u001B[0m\u001B[0;34m\u001B[0m\u001B[0m\n\u001B[0;32m--> 205\u001B[0;31m             \u001B[0;32mraise\u001B[0m \u001B[0mexceptions\u001B[0m\u001B[0;34m.\u001B[0m\u001B[0mDatabaseError\u001B[0m\u001B[0;34m(\u001B[0m\u001B[0mexc\u001B[0m\u001B[0;34m)\u001B[0m\u001B[0;34m\u001B[0m\u001B[0;34m\u001B[0m\u001B[0m\n\u001B[0m\u001B[1;32m    206\u001B[0m \u001B[0;34m\u001B[0m\u001B[0m\n\u001B[1;32m    207\u001B[0m         \u001B[0mquery_results\u001B[0m \u001B[0;34m=\u001B[0m \u001B[0mself\u001B[0m\u001B[0;34m.\u001B[0m\u001B[0m_query_job\u001B[0m\u001B[0;34m.\u001B[0m\u001B[0m_query_results\u001B[0m\u001B[0;34m\u001B[0m\u001B[0;34m\u001B[0m\u001B[0m\n",
      "\u001B[0;31mDatabaseError\u001B[0m: (google.cloud.bigquery.dbapi.exceptions.DatabaseError) 400 SELECT list expression references column timestamp which is neither grouped nor aggregated at [1:62]\n\n(job ID: 97d1bd4a-6c55-40f9-9b95-722092bd6f7a)\n\n                                     -----Query Job SQL Follows-----                                     \n\n    |    .    |    .    |    .    |    .    |    .    |    .    |    .    |    .    |    .    |    .    |\n   1:SELECT count(@`count_1`) AS `num_downloads`, date_trunc(date(`timestamp`), month) AS `date_trunc_1` \n   2:FROM `bigquery-public-data.pypi.file_downloads` \n   3:WHERE date(`timestamp`) = @`date_1`\n    |    .    |    .    |    .    |    .    |    .    |    .    |    .    |    .    |    .    |    .    |\n[SQL: SELECT count(%(count_1:STRING)s) AS `num_downloads`, date_trunc(date(`timestamp`), month) AS `date_trunc_1` \nFROM `bigquery-public-data.pypi.file_downloads` \nWHERE date(`timestamp`) = %(date_1:STRING)s]\n[parameters: {'count_1': '*', 'date_1': '2021-01-01'}]\n(Background on this error at: https://sqlalche.me/e/14/4xp6)"
     ]
    }
   ],
   "source": [
    "result = engine.execute(query)"
   ]
  },
  {
   "cell_type": "code",
   "execution_count": 10,
   "metadata": {},
   "outputs": [],
   "source": [
    "df = pd.read_sql(query, engine)"
   ]
  },
  {
   "cell_type": "code",
   "execution_count": 11,
   "metadata": {},
   "outputs": [
    {
     "data": {
      "text/html": [
       "<div>\n",
       "<style scoped>\n",
       "    .dataframe tbody tr th:only-of-type {\n",
       "        vertical-align: middle;\n",
       "    }\n",
       "\n",
       "    .dataframe tbody tr th {\n",
       "        vertical-align: top;\n",
       "    }\n",
       "\n",
       "    .dataframe thead th {\n",
       "        text-align: right;\n",
       "    }\n",
       "</style>\n",
       "<table border=\"1\" class=\"dataframe\">\n",
       "  <thead>\n",
       "    <tr style=\"text-align: right;\">\n",
       "      <th></th>\n",
       "      <th>count_1</th>\n",
       "    </tr>\n",
       "  </thead>\n",
       "  <tbody>\n",
       "    <tr>\n",
       "      <th>0</th>\n",
       "      <td>176032645</td>\n",
       "    </tr>\n",
       "  </tbody>\n",
       "</table>\n",
       "</div>"
      ],
      "text/plain": [
       "     count_1\n",
       "0  176032645"
      ]
     },
     "execution_count": 11,
     "metadata": {},
     "output_type": "execute_result"
    }
   ],
   "source": [
    "df"
   ]
  },
  {
   "cell_type": "code",
   "execution_count": null,
   "metadata": {},
   "outputs": [],
   "source": []
  }
 ],
 "metadata": {
  "kernelspec": {
   "display_name": "Python 3",
   "language": "python",
   "name": "python3"
  },
  "language_info": {
   "codemirror_mode": {
    "name": "ipython",
    "version": 3
   },
   "file_extension": ".py",
   "mimetype": "text/x-python",
   "name": "python",
   "nbconvert_exporter": "python",
   "pygments_lexer": "ipython3",
   "version": "3.9.5"
  },
  "pycharm": {
   "stem_cell": {
    "cell_type": "raw",
    "metadata": {
     "collapsed": false
    },
    "source": []
   }
  }
 },
 "nbformat": 4,
 "nbformat_minor": 4
}
