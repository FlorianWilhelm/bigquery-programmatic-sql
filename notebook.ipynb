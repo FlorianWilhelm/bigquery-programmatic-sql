{
 "cells": [
  {
   "cell_type": "code",
   "execution_count": 1,
   "metadata": {},
   "outputs": [],
   "source": [
    "import os\n",
    "import sys\n",
    "import math\n",
    "import logging\n",
    "from pathlib import Path\n",
    "\n",
    "%load_ext autoreload\n",
    "%autoreload 2\n",
    "\n",
    "import matplotlib as mpl\n",
    "import matplotlib.pyplot as plt\n",
    "%matplotlib inline\n",
    "%config InlineBackend.figure_format = 'retina'\n",
    "\n",
    "import seaborn as sns\n",
    "sns.set_context(\"poster\")\n",
    "sns.set(rc={\"figure.figsize\": (16, 9.)})\n",
    "sns.set_style(\"whitegrid\")\n",
    "\n",
    "import pandas as pd\n",
    "pd.set_option(\"display.max_rows\", 120)\n",
    "pd.set_option(\"display.max_columns\", 120)\n",
    "\n",
    "logging.basicConfig(level=logging.INFO, stream=sys.stdout)"
   ]
  },
  {
   "cell_type": "markdown",
   "metadata": {},
   "source": [
    "# Querying Google's BigQuery\n",
    "\n",
    "Let's say we want to find out how many monthly downloads some project on [PyPI](https://pypi.org/) has."
   ]
  },
  {
   "cell_type": "code",
   "execution_count": 2,
   "metadata": {},
   "outputs": [],
   "source": [
    "# CONFIGURATION\n",
    "gcp_project = \"cf-model-298607\"\n",
    "os.environ[\"GOOGLE_APPLICATION_CREDENTIALS\"] = \"/Users/fwilhelm/.google-app-creds.json\""
   ]
  },
  {
   "cell_type": "markdown",
   "metadata": {},
   "source": [
    "# SQL, the direct way"
   ]
  },
  {
   "cell_type": "code",
   "execution_count": 3,
   "metadata": {},
   "outputs": [],
   "source": [
    "from google.cloud import bigquery\n",
    "\n",
    "bqclient = bigquery.Client()"
   ]
  },
  {
   "cell_type": "markdown",
   "metadata": {},
   "source": [
    "Our SQL query is directly defined as string and `bigquery.Client()` is used to execute. "
   ]
  },
  {
   "cell_type": "code",
   "execution_count": 4,
   "metadata": {},
   "outputs": [
    {
     "data": {
      "text/html": [
       "<div>\n",
       "<style scoped>\n",
       "    .dataframe tbody tr th:only-of-type {\n",
       "        vertical-align: middle;\n",
       "    }\n",
       "\n",
       "    .dataframe tbody tr th {\n",
       "        vertical-align: top;\n",
       "    }\n",
       "\n",
       "    .dataframe thead th {\n",
       "        text-align: right;\n",
       "    }\n",
       "</style>\n",
       "<table border=\"1\" class=\"dataframe\">\n",
       "  <thead>\n",
       "    <tr style=\"text-align: right;\">\n",
       "      <th></th>\n",
       "      <th>month</th>\n",
       "      <th>num_downloads</th>\n",
       "    </tr>\n",
       "  </thead>\n",
       "  <tbody>\n",
       "    <tr>\n",
       "      <th>0</th>\n",
       "      <td>2021-01-01</td>\n",
       "      <td>229342</td>\n",
       "    </tr>\n",
       "    <tr>\n",
       "      <th>1</th>\n",
       "      <td>2021-02-01</td>\n",
       "      <td>120081</td>\n",
       "    </tr>\n",
       "    <tr>\n",
       "      <th>2</th>\n",
       "      <td>2021-03-01</td>\n",
       "      <td>289039</td>\n",
       "    </tr>\n",
       "    <tr>\n",
       "      <th>3</th>\n",
       "      <td>2021-04-01</td>\n",
       "      <td>265421</td>\n",
       "    </tr>\n",
       "    <tr>\n",
       "      <th>4</th>\n",
       "      <td>2021-05-01</td>\n",
       "      <td>117702</td>\n",
       "    </tr>\n",
       "  </tbody>\n",
       "</table>\n",
       "</div>"
      ],
      "text/plain": [
       "        month  num_downloads\n",
       "0  2021-01-01         229342\n",
       "1  2021-02-01         120081\n",
       "2  2021-03-01         289039\n",
       "3  2021-04-01         265421\n",
       "4  2021-05-01         117702"
      ]
     },
     "execution_count": 4,
     "metadata": {},
     "output_type": "execute_result"
    }
   ],
   "source": [
    "query_string = \"\"\"\n",
    "SELECT \n",
    "  DATE_TRUNC(DATE(timestamp), MONTH) AS `month`,\n",
    "  COUNT(*) AS num_downloads,\n",
    "FROM `bigquery-public-data.pypi.file_downloads`\n",
    "WHERE file.project = 'pyscaffold'\n",
    "    AND details.installer.name = 'pip'\n",
    "    AND DATE(timestamp) BETWEEN DATE('2021-01-01') AND CURRENT_DATE()\n",
    "GROUP BY `month`\n",
    "ORDER BY `month`\n",
    "\"\"\"\n",
    "\n",
    "df = (\n",
    "    bqclient.query(query_string)\n",
    "    .result()\n",
    "    .to_dataframe(create_bqstorage_client=True)\n",
    ")\n",
    "\n",
    "df.head()"
   ]
  },
  {
   "cell_type": "markdown",
   "metadata": {},
   "source": [
    "As easy as it looks, this directy way has several downsides especially if some parameters like for instance the projet `pyscaffold` needs to be define dynamically. In this case, most developers resort to string substitutions, for more complex queries even templating engines like [Jinja](https://jinja.palletsprojects.com/) is used.\n",
    "\n",
    "The obvious downsides of this approach are that string generation is cumbersome, error-prone and only at execution time of the query you know for sure that your query is really syntactically correct. Also clean coding like structering complex queries into smaller subqueries that get composed dynamically is hardly possible with this approach. A more subtle downside is that  [SQL-injection attacks](https://en.wikipedia.org/wiki/SQL_injection) are quite easy as no [prepared statements](https://en.wikipedia.org/wiki/Prepared_statement) are used."
   ]
  },
  {
   "cell_type": "markdown",
   "metadata": {},
   "source": [
    "# SQL, the programmatic way"
   ]
  },
  {
   "cell_type": "markdown",
   "metadata": {},
   "source": [
    "Using [SQLAlchemy](https://www.sqlalchemy.org/) with the [BigQuery](https://github.com/googleapis/python-bigquery-sqlalchemy) dialect, we can programmatically assemble our query directly in Python. This allows our IDE to do introspection, pointing out errors and allowing Python to inform us about misformed SQL queries before even executing them. SQLAlchemy also uses prepared statementes automatically to avoid SQL injection attacks."
   ]
  },
  {
   "cell_type": "code",
   "execution_count": 5,
   "metadata": {},
   "outputs": [],
   "source": [
    "from sqlalchemy import *\n",
    "from sqlalchemy.sql import func as F\n",
    "from sqlalchemy.engine import create_engine\n",
    "from sqlalchemy.schema import *\n",
    "\n",
    "engine = create_engine(f'bigquery://{gcp_project}') "
   ]
  },
  {
   "cell_type": "code",
   "execution_count": 6,
   "metadata": {},
   "outputs": [],
   "source": [
    "table = Table('bigquery-public-data.pypi.file_downloads', MetaData(bind=engine), autoload=True)\n",
    "query = (select([F.date_trunc(F.date(column(\"timestamp\")), text(\"month\")).label(\"month\"),\n",
    "                 F.count(\"*\").label(\"num_downloads\")],\n",
    "                from_obj=table)\n",
    "         .where(\n",
    "             and_(\n",
    "                F.date(column(\"timestamp\")).between(\"2021-01-01\", F.current_date()),\n",
    "                column(\"file.project\") == \"pyscaffold\",\n",
    "                column(\"details.installer.name\") == \"pip\"\n",
    "             )\n",
    "         )\n",
    "         .group_by(\"month\")\n",
    "         .order_by(\"month\"))"
   ]
  },
  {
   "cell_type": "markdown",
   "metadata": {},
   "source": [
    "At any time we can take a look at the prepared statement using `print`."
   ]
  },
  {
   "cell_type": "code",
   "execution_count": 7,
   "metadata": {},
   "outputs": [
    {
     "name": "stdout",
     "output_type": "stream",
     "text": [
      "SELECT date_trunc(date(`timestamp`), month) AS `month`, count(%(count_1:STRING)s) AS `num_downloads` \n",
      "FROM `bigquery-public-data.pypi.file_downloads` \n",
      "WHERE date(`timestamp`) BETWEEN %(date_1:STRING)s AND CURRENT_DATE AND `file`.`project` = %(file.project_1:STRING)s AND `details`.`installer`.`name` = %(details.installer.name_1:STRING)s GROUP BY `month` ORDER BY `month`\n"
     ]
    }
   ],
   "source": [
    "print(query)"
   ]
  },
  {
   "cell_type": "markdown",
   "metadata": {},
   "source": [
    "A low-level way of executing the query now, is to use the `engine` with:\n",
    "```python\n",
    "result = engine.execute(query)\n",
    "```\n",
    "Since in most cases, we want to deal with a dataframe, we can just use Pandas:"
   ]
  },
  {
   "cell_type": "code",
   "execution_count": 8,
   "metadata": {},
   "outputs": [],
   "source": [
    "df = pd.read_sql(query, engine)"
   ]
  },
  {
   "cell_type": "code",
   "execution_count": 9,
   "metadata": {},
   "outputs": [
    {
     "data": {
      "text/html": [
       "<div>\n",
       "<style scoped>\n",
       "    .dataframe tbody tr th:only-of-type {\n",
       "        vertical-align: middle;\n",
       "    }\n",
       "\n",
       "    .dataframe tbody tr th {\n",
       "        vertical-align: top;\n",
       "    }\n",
       "\n",
       "    .dataframe thead th {\n",
       "        text-align: right;\n",
       "    }\n",
       "</style>\n",
       "<table border=\"1\" class=\"dataframe\">\n",
       "  <thead>\n",
       "    <tr style=\"text-align: right;\">\n",
       "      <th></th>\n",
       "      <th>month</th>\n",
       "      <th>num_downloads</th>\n",
       "    </tr>\n",
       "  </thead>\n",
       "  <tbody>\n",
       "    <tr>\n",
       "      <th>0</th>\n",
       "      <td>2021-01-01</td>\n",
       "      <td>229342</td>\n",
       "    </tr>\n",
       "    <tr>\n",
       "      <th>1</th>\n",
       "      <td>2021-02-01</td>\n",
       "      <td>120081</td>\n",
       "    </tr>\n",
       "    <tr>\n",
       "      <th>2</th>\n",
       "      <td>2021-03-01</td>\n",
       "      <td>289039</td>\n",
       "    </tr>\n",
       "    <tr>\n",
       "      <th>3</th>\n",
       "      <td>2021-04-01</td>\n",
       "      <td>265421</td>\n",
       "    </tr>\n",
       "    <tr>\n",
       "      <th>4</th>\n",
       "      <td>2021-05-01</td>\n",
       "      <td>117702</td>\n",
       "    </tr>\n",
       "  </tbody>\n",
       "</table>\n",
       "</div>"
      ],
      "text/plain": [
       "        month  num_downloads\n",
       "0  2021-01-01         229342\n",
       "1  2021-02-01         120081\n",
       "2  2021-03-01         289039\n",
       "3  2021-04-01         265421\n",
       "4  2021-05-01         117702"
      ]
     },
     "execution_count": 9,
     "metadata": {},
     "output_type": "execute_result"
    }
   ],
   "source": [
    "df.head()"
   ]
  },
  {
   "cell_type": "code",
   "execution_count": null,
   "metadata": {},
   "outputs": [],
   "source": []
  }
 ],
 "metadata": {
  "kernelspec": {
   "display_name": "Python 3",
   "language": "python",
   "name": "python3"
  },
  "language_info": {
   "codemirror_mode": {
    "name": "ipython",
    "version": 3
   },
   "file_extension": ".py",
   "mimetype": "text/x-python",
   "name": "python",
   "nbconvert_exporter": "python",
   "pygments_lexer": "ipython3",
   "version": "3.9.5"
  },
  "pycharm": {
   "stem_cell": {
    "cell_type": "raw",
    "metadata": {
     "collapsed": false
    },
    "source": []
   }
  }
 },
 "nbformat": 4,
 "nbformat_minor": 4
}
